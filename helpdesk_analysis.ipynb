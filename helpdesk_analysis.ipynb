{
 "cells": [
  {
   "cell_type": "markdown",
   "metadata": {},
   "source": [
    "<center>\n",
    "<div style=\" border-top: 5px solid #28a745; border-bottom: 5px dashed #28a745; border-left: 5px double #28a745; border-right: 5px dotted #28a745; color: #28a745; border-radius: 10px; margin: 5px; padding: 5px; width: 95%; font-family: 'Amiri', serif;\">\n",
    "    <h1 style=\"width: 90%; text-align: center; padding: 15px 30px; font-size: 22px; font-weight: bold; color: #fff; border-radius: 25px; background: #28a745; background-size: 200%; position: relative; overflow: hidden; display: inline-block; width: 90%; vertical-align: middle;\">✧ ✧ MBL Hightech Home Assignment ✧ ✧\n",
    "    </h1>\n",
    "</div>\n",
    "</center>\n"
   ]
  },
  {
   "cell_type": "markdown",
   "metadata": {},
   "source": []
  },
  {
   "cell_type": "markdown",
   "metadata": {},
   "source": [
    "<center>\n",
    "<div style=\" border-top: 5px solid #ff758c; border-bottom: 5px dashed #ff758c; border-left: 5px double #ff758c; border-right: 5px dotted #ff758c; color: #19a01a; border-radius: 10px; margin: 5px; padding: 5px; width: 95%; font-family: 'Amiri', serif;\">\n",
    "    <h1 style=\"width: 90%; text-align: center; padding: 15px 30px; font-size: 22px; font-weight: bold; color: #000; border-radius: 25px; background: #f68084; background-size: 200%; position: relative; overflow: hidden; display: inline-block; width: 90%; vertical-align: middle;\">✧ ✧ About Data ✧ ✧\n",
    "    </h1>\n",
    "</div>\n",
    "</center>\n"
   ]
  },
  {
   "cell_type": "markdown",
   "metadata": {},
   "source": [
    "*The dataset contains customer support tickets with fields like queue, priority, language, and business type, providing insights into customer inquiries and service areas, enabling analysis of patterns in ticket distribution and support needs.*"
   ]
  },
  {
   "cell_type": "markdown",
   "metadata": {},
   "source": [
    "#### Queue\n",
    "\n",
    "Specifies the department to which the email ticket is categorized. This helps in routing the ticket to the appropriate support team for resolution.\n",
    "- 💻Technical Support: Technical issues and support requests.\n",
    "- 🈂️Customer Service: Customer inquiries and service requests.\n",
    "- 💰Billing and Payments: Billing issues and payment processing.\n",
    "- 🖥️Product Support: Support for product-related issues.\n",
    "- 🌐IT Support: Internal IT support and infrastructure issues.\n",
    "- 🔄Returns and Exchanges: Product returns and exchanges.\n",
    "- 📞Sales and Pre-Sales: Sales inquiries and pre-sales questions.\n",
    "- 🧑‍💻Human Resources: Employee inquiries and HR-related issues.\n",
    "- ❌Service Outages and Maintenance: Service interruptions and maintenance.\n",
    "- 📮General Inquiry: General inquiries and information requests.\n",
    "\n",
    "#### Priority\n",
    "\n",
    "\n",
    "Indicates the urgency and importance of the issue. Helps in managing the workflow by prioritizing tickets that need immediate attention.\n",
    "\n",
    "\n",
    "- 🟢1 (Low): Non-urgent issues that do not require immediate attention. Examples: General inquiries, minor inconveniences, routine updates, and feature requests.\n",
    "- 🟠2 (Medium): Moderately urgent issues that need timely resolution but are not critical. Examples: Performance issues, intermittent errors, and user questions requiring detailed responses.\n",
    "- 🔴3 (Critical): Urgent issues that require immediate attention and quick resolution. Examples: System outages, security breaches, data loss, and major malfunctions.\n",
    "\n",
    "\n",
    "#### Language\n",
    "\n",
    "Indicates the language in which the email is written. Useful for language-specific NLP models and multilingual support analysis.\n",
    "\n",
    "- en (English)\n",
    "- de (German)\n",
    "- es (Spanish)\n",
    "- fr (French)\n",
    "- pt (Portuguese)\n",
    "\n",
    "Answer\n",
    "\n",
    "The response provided by the helpdesk agent, containing the resolution or further instructions. Useful for analyzing the quality and effectiveness of the support provided.\n",
    "\n",
    "\n",
    "#### Types\n",
    "\n",
    "Different types of tickets categorized to understand the nature of the requests or issues.\n",
    "\n",
    "- ❗ Incident: Unexpected issue requiring immediate attention.\n",
    "    - Examples: Critical issue requiring swift attention, unplanned event needing immediate resolution, urgent problem requiring prompt action.\n",
    "\n",
    "- 📝 Request: Routine inquiry or service request.\n",
    "    - Examples: Standard request needing attention, general inquiry or request, non-urgent request for service.\n",
    "\n",
    "- ⚠️ Problem: Basic issue causing multiple incidents.\n",
    "\n",
    "    - Examples: Underlying problem leading to other issues, core issue affecting multiple areas, root cause of various incidents.\n",
    "\n",
    "- 🔄 Change: Planned change or update.\n",
    "\n",
    "    - Examples: Scheduled change needing implementation, planned update or modification, change request for approval and action.\n",
    "\n",
    "\n",
    "#### Business Type\n",
    "\n",
    "- The business type of the support helpdesk. Helps in understanding the context of the support provided.\n",
    "\n",
    "    - Examples: \"Tech Online Store,\" \"IT Services,\" \"Software Development Company.\"\n",
    "\n",
    "#### Tags\n",
    "\n",
    "- Tags/categories assigned to the ticket. These tags help in further classifying and identifying common issues or topics.\n",
    "\n",
    "    - Examples: \"Product Support,\" \"Technical Support,\" \"Sales Inquiry.\""
   ]
  },
  {
   "cell_type": "markdown",
   "metadata": {},
   "source": [
    "<center>\n",
    "<div style=\" border-top: 5px solid #ff758c; border-bottom: 5px dashed #ff758c; border-left: 5px double #ff758c; border-right: 5px dotted #ff758c; color: #19a01a; border-radius: 10px; margin: 5px; padding: 5px; width: 95%; font-family: 'Amiri', serif;\">\n",
    "    <h1 style=\"width: 90%; text-align: center; padding: 15px 30px; font-size: 23px; font-weight: bold; color: #000; border-radius: 25px; background:#f68084; background-size: 200%; position: relative; overflow: hidden; display: inline-block; width: 90%; vertical-align: middle;\">✧ ✧ Getting Started ✧ ✧\n",
    "    </h1>\n",
    "</div>\n",
    "</center>"
   ]
  },
  {
   "cell_type": "markdown",
   "metadata": {},
   "source": [
    "<a id=\"importing\"></a>\n",
    "# <p  style= \"font-size: 40px;\">📚💡<span style=\"color: #ffffff;\">I</span><span style=\"color: #f9f9f9;\">M</span><span style=\"color: #ececec; font-weight: 900;\">P</span><span style=\"color: #dfdfdf;\">O</span><span style=\"color: #d2d2d2;\">R</span><span style=\"color: #c5c5c5;\">T</span><span style=\"color: #b8b8b8;\">I</span><span style=\"color: #ababab;\">N</span><span style=\"color: #9e9e9e;\">G</span> <span style=\"color: #848484;\">L</span><span style=\"color: #777777;\">I</span><span style=\"color: #6a6a6a; font-weight: 900;\">B</span><span style=\"color: #5d5d5d;\">R</span><span style=\"color: #505050;\">A</span><span style=\"color: #434343;\">R</span><span style=\"color: #363636;\">I</span><span style=\"color: #292929;\">E</span><span style=\"color: #1c1c1c;\">S</span>📚</p>"
   ]
  },
  {
   "cell_type": "code",
   "execution_count": 5,
   "metadata": {},
   "outputs": [],
   "source": [
    "import pandas as pd\n",
    "import matplotlib.pyplot as plt\n",
    "import seaborn as sns\n",
    "from collections import Counter\n",
    "\n",
    "from warnings import filterwarnings\n",
    "filterwarnings('ignore')"
   ]
  },
  {
   "cell_type": "markdown",
   "metadata": {},
   "source": [
    "<div class=\"list-group\" id=\"list-tab\" role=\"tablist\">\n",
    "    <!-- Tab 1: Reading Data -->\n",
    "    <p style=\"background-color:#20B2AA; font-family:Arial, sans-serif; color:#FFFFFF; font-size:150%; text-align:center; padding:8px; border:2px solid #FFFFFF; width: 70%; border-top-right-radius: 60px; border-bottom-left-radius: 60px;\">\n",
    "        1.0: Data Overview\n",
    "    </p>"
   ]
  },
  {
   "cell_type": "code",
   "execution_count": 6,
   "metadata": {},
   "outputs": [
    {
     "data": {
      "text/html": [
       "<div>\n",
       "<style scoped>\n",
       "    .dataframe tbody tr th:only-of-type {\n",
       "        vertical-align: middle;\n",
       "    }\n",
       "\n",
       "    .dataframe tbody tr th {\n",
       "        vertical-align: top;\n",
       "    }\n",
       "\n",
       "    .dataframe thead th {\n",
       "        text-align: right;\n",
       "    }\n",
       "</style>\n",
       "<table border=\"1\" class=\"dataframe\">\n",
       "  <thead>\n",
       "    <tr style=\"text-align: right;\">\n",
       "      <th></th>\n",
       "      <th>id</th>\n",
       "      <th>subject</th>\n",
       "      <th>body</th>\n",
       "      <th>answer</th>\n",
       "      <th>type</th>\n",
       "      <th>queue</th>\n",
       "      <th>priority</th>\n",
       "      <th>language</th>\n",
       "      <th>business_type</th>\n",
       "      <th>tag_1</th>\n",
       "      <th>tag_2</th>\n",
       "      <th>tag_3</th>\n",
       "      <th>tag_4</th>\n",
       "      <th>tag_5</th>\n",
       "      <th>tag_6</th>\n",
       "      <th>tag_7</th>\n",
       "      <th>tag_8</th>\n",
       "      <th>tag_9</th>\n",
       "    </tr>\n",
       "  </thead>\n",
       "  <tbody>\n",
       "    <tr>\n",
       "      <th>0</th>\n",
       "      <td>36</td>\n",
       "      <td>Anfrage zu den Spezifikationen und Anpassungso...</td>\n",
       "      <td>Sehr geehrtes Support-Team des Tech Online Sto...</td>\n",
       "      <td>Sehr geehrter &lt;name&gt;,\\n\\nvielen Dank für Ihr I...</td>\n",
       "      <td>Request</td>\n",
       "      <td>Customer Service</td>\n",
       "      <td>medium</td>\n",
       "      <td>de</td>\n",
       "      <td>Tech Online Store</td>\n",
       "      <td>Product Support</td>\n",
       "      <td>Sales Inquiry</td>\n",
       "      <td>Technical Guidance</td>\n",
       "      <td>General Inquiry</td>\n",
       "      <td>NaN</td>\n",
       "      <td>NaN</td>\n",
       "      <td>NaN</td>\n",
       "      <td>NaN</td>\n",
       "      <td>NaN</td>\n",
       "    </tr>\n",
       "    <tr>\n",
       "      <th>1</th>\n",
       "      <td>39</td>\n",
       "      <td>Déconnexions fréquentes et plantages</td>\n",
       "      <td>Le client signale des déconnexions fréquentes ...</td>\n",
       "      <td>Nous allons enquêter sur le problème avec Zoom...</td>\n",
       "      <td>Incident</td>\n",
       "      <td>Product Support</td>\n",
       "      <td>high</td>\n",
       "      <td>fr</td>\n",
       "      <td>Software Development Company</td>\n",
       "      <td>Technical Support</td>\n",
       "      <td>Software Bug</td>\n",
       "      <td>Service Disruption</td>\n",
       "      <td>System Crash</td>\n",
       "      <td>Problem Resolution</td>\n",
       "      <td>Performance Tuning</td>\n",
       "      <td>NaN</td>\n",
       "      <td>NaN</td>\n",
       "      <td>NaN</td>\n",
       "    </tr>\n",
       "    <tr>\n",
       "      <th>2</th>\n",
       "      <td>243</td>\n",
       "      <td>Problema de sonido Dell XPS</td>\n",
       "      <td>Problema con el sonido, manejando como devoluc...</td>\n",
       "      <td>Gracias por su correo electrónico. Procesaremo...</td>\n",
       "      <td>Problem</td>\n",
       "      <td>Returns and Exchanges</td>\n",
       "      <td>medium</td>\n",
       "      <td>es</td>\n",
       "      <td>Tech Online Store</td>\n",
       "      <td>Returns and Exchanges</td>\n",
       "      <td>Product Support</td>\n",
       "      <td>Customer Service</td>\n",
       "      <td>Refund Request</td>\n",
       "      <td>NaN</td>\n",
       "      <td>NaN</td>\n",
       "      <td>NaN</td>\n",
       "      <td>NaN</td>\n",
       "      <td>NaN</td>\n",
       "    </tr>\n",
       "    <tr>\n",
       "      <th>3</th>\n",
       "      <td>381</td>\n",
       "      <td>Assistance requise pour la configuration du ta...</td>\n",
       "      <td>Cher support client,\\n\\nNotre client, &lt;name&gt;, ...</td>\n",
       "      <td>Cher &lt;name&gt;,\\n\\nMerci de nous avoir contactés....</td>\n",
       "      <td>Request</td>\n",
       "      <td>Product Support</td>\n",
       "      <td>medium</td>\n",
       "      <td>fr</td>\n",
       "      <td>Software Development Company</td>\n",
       "      <td>Technical Support</td>\n",
       "      <td>Product Support</td>\n",
       "      <td>General Inquiry</td>\n",
       "      <td>Problem Resolution</td>\n",
       "      <td>Training Request</td>\n",
       "      <td>NaN</td>\n",
       "      <td>NaN</td>\n",
       "      <td>NaN</td>\n",
       "      <td>NaN</td>\n",
       "    </tr>\n",
       "    <tr>\n",
       "      <th>4</th>\n",
       "      <td>663</td>\n",
       "      <td>Urgente: Assistência Imediata Necessária para ...</td>\n",
       "      <td>Caro Suporte ao Cliente da Firma de Consultori...</td>\n",
       "      <td>Caro Cliente,\\n\\nRecebemos sua solicitação urg...</td>\n",
       "      <td>Incident</td>\n",
       "      <td>Human Resources</td>\n",
       "      <td>medium</td>\n",
       "      <td>pt</td>\n",
       "      <td>IT Consulting Firm</td>\n",
       "      <td>Urgent Issue</td>\n",
       "      <td>Payroll Issue</td>\n",
       "      <td>Technical Support</td>\n",
       "      <td>Service Disruption</td>\n",
       "      <td>Problem Resolution</td>\n",
       "      <td>Account Assistance</td>\n",
       "      <td>NaN</td>\n",
       "      <td>NaN</td>\n",
       "      <td>NaN</td>\n",
       "    </tr>\n",
       "  </tbody>\n",
       "</table>\n",
       "</div>"
      ],
      "text/plain": [
       "    id                                            subject  \\\n",
       "0   36  Anfrage zu den Spezifikationen und Anpassungso...   \n",
       "1   39               Déconnexions fréquentes et plantages   \n",
       "2  243                        Problema de sonido Dell XPS   \n",
       "3  381  Assistance requise pour la configuration du ta...   \n",
       "4  663  Urgente: Assistência Imediata Necessária para ...   \n",
       "\n",
       "                                                body  \\\n",
       "0  Sehr geehrtes Support-Team des Tech Online Sto...   \n",
       "1  Le client signale des déconnexions fréquentes ...   \n",
       "2  Problema con el sonido, manejando como devoluc...   \n",
       "3  Cher support client,\\n\\nNotre client, <name>, ...   \n",
       "4  Caro Suporte ao Cliente da Firma de Consultori...   \n",
       "\n",
       "                                              answer      type  \\\n",
       "0  Sehr geehrter <name>,\\n\\nvielen Dank für Ihr I...   Request   \n",
       "1  Nous allons enquêter sur le problème avec Zoom...  Incident   \n",
       "2  Gracias por su correo electrónico. Procesaremo...   Problem   \n",
       "3  Cher <name>,\\n\\nMerci de nous avoir contactés....   Request   \n",
       "4  Caro Cliente,\\n\\nRecebemos sua solicitação urg...  Incident   \n",
       "\n",
       "                   queue priority language                 business_type  \\\n",
       "0       Customer Service   medium       de             Tech Online Store   \n",
       "1        Product Support     high       fr  Software Development Company   \n",
       "2  Returns and Exchanges   medium       es             Tech Online Store   \n",
       "3        Product Support   medium       fr  Software Development Company   \n",
       "4        Human Resources   medium       pt            IT Consulting Firm   \n",
       "\n",
       "                   tag_1            tag_2               tag_3  \\\n",
       "0        Product Support    Sales Inquiry  Technical Guidance   \n",
       "1      Technical Support     Software Bug  Service Disruption   \n",
       "2  Returns and Exchanges  Product Support    Customer Service   \n",
       "3      Technical Support  Product Support     General Inquiry   \n",
       "4           Urgent Issue    Payroll Issue   Technical Support   \n",
       "\n",
       "                tag_4               tag_5               tag_6 tag_7 tag_8  \\\n",
       "0     General Inquiry                 NaN                 NaN   NaN   NaN   \n",
       "1        System Crash  Problem Resolution  Performance Tuning   NaN   NaN   \n",
       "2      Refund Request                 NaN                 NaN   NaN   NaN   \n",
       "3  Problem Resolution    Training Request                 NaN   NaN   NaN   \n",
       "4  Service Disruption  Problem Resolution  Account Assistance   NaN   NaN   \n",
       "\n",
       "   tag_9  \n",
       "0    NaN  \n",
       "1    NaN  \n",
       "2    NaN  \n",
       "3    NaN  \n",
       "4    NaN  "
      ]
     },
     "execution_count": 6,
     "metadata": {},
     "output_type": "execute_result"
    }
   ],
   "source": [
    "# Read the data\n",
    "df = pd.read_csv('dataset/helpdesk_customer_tickets.csv', encoding='ISO-8859-1')\n",
    "df.head()"
   ]
  },
  {
   "cell_type": "markdown",
   "metadata": {},
   "source": [
    "<!-- 1.1: Reading and Loading Data -->\n",
    "<p style=\"background-color:#20B2AA; font-family:Arial, sans-serif; color:#FFFFFF; font-size:150%; text-align:center; padding:8px; border:2px solid #FFFFFF; width: 70%; border-top-right-radius: 60px; border-bottom-left-radius: 60px;\">\n",
    "    1.1: Reading and Loading Data\n",
    "</p>"
   ]
  },
  {
   "cell_type": "code",
   "execution_count": null,
   "metadata": {},
   "outputs": [],
   "source": [
    "# Display dataset shape and columns\n",
    "print(\"\\n=== Dataset Basic Information ===\")\n",
    "print(\"\\nDataset Shape:\", df.shape)\n",
    "print(\"\\nColumns Names:\", df.columns.tolist())"
   ]
  },
  {
   "cell_type": "markdown",
   "metadata": {},
   "source": [
    "<!-- 1.2: Dataset Structure and Basic Information -->\n",
    "<p style=\"background-color:#20B2AA; font-family:Arial, sans-serif; color:#FFFFFF; font-size:150%; text-align:center; padding:8px; border:2px solid #FFFFFF; width: 70%; border-top-right-radius: 60px; border-bottom-left-radius: 60px;\">\n",
    "    1.2: Dataset Structure and Basic Information\n",
    "</p>"
   ]
  },
  {
   "cell_type": "code",
   "execution_count": null,
   "metadata": {},
   "outputs": [],
   "source": [
    "# Data types and missing values\n",
    "print(\"\\n=== Data Types and Missing Values ===\")\n",
    "missing_info = pd.DataFrame({\n",
    "    'Data Type': df.dtypes,\n",
    "    'Missing Values': df.isnull().sum(),\n",
    "    'Missing Percentage': (df.isnull().sum() / len(df) * 100).round(2)\n",
    "})\n",
    "print(missing_info)"
   ]
  },
  {
   "cell_type": "markdown",
   "metadata": {},
   "source": [
    "<!-- 2.0: Data  and Preprocessing -->\n",
    "\n",
    "<a id=\"Cleaning\"></a>\n",
    "\n",
    "# <p style=\"font-size: 40px;\">🔧🧹<span style=\"color: #ffffff;\">T</span><span style=\"color: #f9f9f9;\">a</span><span style=\"color: #ececec; font-weight: 900;\">s</span><span style=\"color: #dfdfdf;\">k</span> <span style=\"color: #d2d2d2;\">2</span>: <span style=\"color: #c5c5c5;\">D</span><span style=\"color: #b8b8b8;\">a</span><span style=\"color: #ababab;\">t</span><span style=\"color: #9e9e9e;\">a</span> <span style=\"color: #919191;\">C</span><span style=\"color: #848484;\">l</span><span style=\"color: #777777;\">e</span><span style=\"color: #6a6a6a; font-weight: 900;\">a</span><span style=\"color: #5d5d5d;\">n</span><span style=\"color: #505050;\">i</span><span style=\"color: #434343;\">n</span><span style=\"color: #363636;\">g</span> <span style=\"color: #292929;\">a</span><span style=\"color: #1c1c1c;\">n</span><span style=\"color: #0f0f0f;\">d</span> <span style=\"color: #ffffff;\">P</span><span style=\"color: #f9f9f9;\">r</span><span style=\"color: #ececec; font-weight: 900;\">e</span><span style=\"color: #dfdfdf;\">p</span><span style=\"color: #d2d2d2;\">r</span><span style=\"color: #c5c5c5;\">o</span><span style=\"color: #b8b8b8;\">c</span><span style=\"color: #ababab; font-weight: 900;\">e</span><span style=\"color: #9e9e9e; font-weight: 900;\">s</span><span style=\"color: #919191; font-weight: 900;\">s</span><span style=\"color: #848484; font-weight: 900;\">i</span><span style=\"color: #777777; font-weight: 900;\">n</span><span style=\"color: #6a6a6a; font-weight: 900;\">g</span>🧹🔧</p>\n"
   ]
  },
  {
   "cell_type": "markdown",
   "metadata": {},
   "source": [
    "<!-- 2.1: Data Types and Missing Values -->\n",
    "<p style=\"background-color:#20B2AA; font-family:Arial, sans-serif; color:#FFFFFF; font-size:150%; text-align:center; padding:8px; border:2px solid #FFFFFF; width: 70%; border-top-right-radius: 60px; border-bottom-left-radius: 60px;\">\n",
    "    2.1: Data Types and Missing Values\n",
    "</p>"
   ]
  },
  {
   "cell_type": "code",
   "execution_count": null,
   "metadata": {},
   "outputs": [],
   "source": [
    "# Checking data types and summarizing missing values\n",
    "print(\"\\n=== Data Types and Missing Values ===\")\n",
    "print(missing_info)"
   ]
  },
  {
   "cell_type": "markdown",
   "metadata": {},
   "source": [
    "<!-- 2.2: Handling Missing Values and Data Imputation -->\n",
    "<p style=\"background-color:#20B2AA; font-family:Arial, sans-serif; color:#FFFFFF; font-size:150%; text-align:center; padding:8px; border:2px solid #FFFFFF; width: 70%; border-top-right-radius: 60px; border-bottom-left-radius: 60px;\">\n",
    "    2.2: Handling Missing Values\n",
    "</p>"
   ]
  },
  {
   "cell_type": "code",
   "execution_count": null,
   "metadata": {},
   "outputs": [],
   "source": [
    "# Drop rows with missing values more than 100\n",
    "df = df.dropna(axis=1, thresh=len(df) - 100)\n"
   ]
  },
  {
   "cell_type": "code",
   "execution_count": null,
   "metadata": {},
   "outputs": [],
   "source": [
    "# Check data types and summarizing missing values\n",
    "print(\"\\n=== Data Types and Missing Values ===\")\n",
    "missing_info = pd.DataFrame({\n",
    "    'Data Type': df.dtypes,\n",
    "    'Missing Values': df.isnull().sum(),\n",
    "    'Missing Percentage': (df.isnull().sum() / len(df) * 100).round(2)\n",
    "})\n",
    "print(missing_info)"
   ]
  },
  {
   "cell_type": "markdown",
   "metadata": {},
   "source": [
    "<a id=\"EDA\"></a>\n",
    "\n",
    "# <p style=\"font-size: 45px;\"> 📉<span style=\"color: #ffffff;\">T</span><span style=\"color: #f9f9f9;\">a</span><span style=\"color: #ececec; font-weight: 900;\">s</span><span style=\"color: #dfdfdf;\">k</span><span style=\"color: #d2d2d2;\">3</span>: <span style=\"color: #c5c5c5;\">E</span><span style=\"color: #b8b8b8;\">x</span><span style=\"color: #ababab;\">p</span><span style=\"color: #9e9e9e;\">l</span><span style=\"color: #919191;\">o</span><span style=\"color: #848484;\">r</span><span style=\"color: #777777;\">a</span><span style=\"color: #6a6a6a; font-weight: 900;\">t</span><span style=\"color: #5d5d5d;\">o</span><span style=\"color: #505050;\">r</span><span style=\"color: #434343;\">y</span> <span style=\"color: #363636;\">D</span><span style=\"color: #292929;\">a</span><span style=\"color: #1c1c1c;\">t</span><span style=\"color: #0f0f0f;\">a</span><span style=\"color: #ffffff;\">A</span><span style=\"color: #f9f9f9;\">n</span><span style=\"color: #ececec; font-weight: 900;\">a</span><span style=\"color: #dfdfdf;\">l</span><span style=\"color: #d2d2d2;\">y</span><span style=\"color: #c5c5c5;\">s</span><span style=\"color: #b8b8b8; font-weight: 900;\">i</span><span style=\"color: #ababab; font-weight: 900;\">s</span>📈</p>\n"
   ]
  },
  {
   "cell_type": "markdown",
   "metadata": {},
   "source": [
    "<!-- 3.1: Summary Statistics for Numeric Columns -->\n",
    "<p style=\"background-color:#20B2AA; font-family:Arial, sans-serif; color:#FFFFFF; font-size:150%; text-align:center; padding:8px; border:2px solid #FFFFFF; width: 70%; border-top-right-radius: 60px; border-bottom-left-radius: 60px;\">\n",
    "    3.1: Summary Statistics for Numeric Columns\n",
    "</p>"
   ]
  },
  {
   "cell_type": "code",
   "execution_count": null,
   "metadata": {},
   "outputs": [],
   "source": [
    "# Basic statistics for numeric columns\n",
    "print(\"\\n=== Numeric Columns Statistics ===\")\n",
    "print(df.describe())"
   ]
  },
  {
   "cell_type": "markdown",
   "metadata": {},
   "source": [
    "<div class=\"list-group\" id=\"list-tab\" role=\"tablist\">\n",
    "<p style=\"background-color:#20B2AA; font-family:Arial, sans-serif; color:#FFFFFF; font-size:150%; text-align:center; padding:8px; border:2px solid #FFFFFF; width: 55%; border-top-right-radius: 60px; border-bottom-left-radius: 60px;\">\n",
    "    3.2: Distribution Analysis of Categorical Variables\n",
    "</p>\n",
    "\n",
    "> ### `Let's delve  deeper into the distribution of each categorical variable, by using the value_counts method:`"
   ]
  },
  {
   "cell_type": "code",
   "execution_count": null,
   "metadata": {},
   "outputs": [],
   "source": [
    "# Distribution of tickets across different categories\n",
    "print(\"\\n=== Distribution of Tickets ===\")\n",
    "print(\"\\nQueue Distribution:\")\n",
    "print(df['queue'].value_counts())\n",
    "print(\"\\nLanguage Distribution:\")\n",
    "print(df['language'].value_counts())\n",
    "print(\"\\nPriority Distribution:\")\n",
    "print(df['priority'].value_counts())\n",
    "print(\"\\nBusiness Type Distribution:\")\n",
    "print(df['business_type'].value_counts())"
   ]
  },
  {
   "cell_type": "markdown",
   "metadata": {},
   "source": [
    "<!-- 3.3: Text Length Analysis for Ticket Body -->\n",
    "<p style=\"background-color:#20B2AA; font-family:Arial, sans-serif; color:#FFFFFF; font-size:150%; text-align:center; padding:8px; border:2px solid #FFFFFF; width: 70%; border-top-right-radius: 60px; border-bottom-left-radius: 60px;\">\n",
    "    3.3: Text Length Analysis for Ticket Body\n",
    "</p>\n"
   ]
  },
  {
   "cell_type": "code",
   "execution_count": null,
   "metadata": {},
   "outputs": [],
   "source": [
    "# Text length analysis\n",
    "df['text_length'] = df['body'].str.len()\n",
    "print(\"\\n=== Text Length Statistics ===\")\n",
    "print(df['text_length'].describe())"
   ]
  },
  {
   "cell_type": "markdown",
   "metadata": {},
   "source": [
    "<div style=\"font-size: 25px; font-family: 'Roboto', sans-serif; background-color: #d5e8f9; padding: 10px; border-radius: 10px; border: 5px solid #3498db; width: 45%\">\n",
    "    <span style=\"color: #9b59b6; font-weight: 900; border: 3px solid grey;  border-radius:10px;\">I</span>\n",
    "    <span style=\"color: #e74c3c; font-weight: 900;\">n</span>\n",
    "    <span style=\"color: #1abc9c; font-weight: 900;\">s</span>\n",
    "    <span style=\"color: #8e44ad; font-weight: 900;\">i</span>\n",
    "    <span style=\"color: #f39c12; font-weight: 900;\">g</span>\n",
    "    <span style=\"color: #2ecc71; font-weight: 900;\">h</span>\n",
    "    <span style=\"color: #f1c40f; font-weight: 900;\">t</span>\n",
    "    <span style=\"color: #e67e22; font-weight: 900;\">s</span>\n",
    "</div>\n",
    "\n",
    "> ##### The analysis of the text lengths reveals that the dataset contains 600 entries with an average text length of approximately 316 characters. The text lengths range from a minimum of 25 characters to a maximum of 824 characters, with a standard deviation of 127.3, indicating some variability in text length. The median text length is 300.5 characters, and the interquartile range (25th to 75th percentile) spans from 246.75 to 382 characters, suggesting that most of the texts are concentrated within this range."
   ]
  },
  {
   "cell_type": "markdown",
   "metadata": {},
   "source": [
    "<a id=\"Visualization\"></a>\n",
    "#  <p  style= \"font-size: 40px;\">📊🔍<span style=\"color: #ffffff;\">T</span><span style=\"color: #f9f9f9;\">a</span><span style=\"color: #ececec; font-weight: 900;\">s</span><span style=\"color: #dfdfdf;\">k</span> <span style=\"color: #d2d2d2;\">4</span>:  <span style=\"color: #c5c5c5;\">D</span><span style=\"color: #b8b8b8;\">a</span><span style=\"color: #ababab;\">t</span><span style=\"color: #9e9e9e;\">a</span> <span style=\"color: #919191;\">V</span><span style=\"color: #848484;\">i</span><span style=\"color: #777777;\">s</span><span style=\"color: #6a6a6a; font-weight: 900;\">u</span><span style=\"color: #5d5d5d;\">a</span><span style=\"color: #505050;\">l</span><span style=\"color: #434343;\">i</span><span style=\"color: #363636;\">z</span><span style=\"color: #292929;\">a</span><span style=\"color: #1c1c1c;\">t</span><span style=\"color: #0f0f0f;\">i</span><span style=\"color: #ffffff;\">o</span><span style=\"color: #f9f9f9;\">n</span>📈🔍</p>"
   ]
  },
  {
   "cell_type": "code",
   "execution_count": null,
   "metadata": {},
   "outputs": [],
   "source": [
    "# Code for the four plots (Queue, Priority, Language distributions and Text Length histogram)\n",
    "\n",
    "# Visualizations\n",
    "plt.figure(figsize=(15, 10))\n",
    "\n",
    "# Queue distribution plot\n",
    "plt.subplot(2, 2, 1)\n",
    "sns.countplot(data=df, y='queue', order=df['queue'].value_counts().index)\n",
    "plt.title('Distribution of Tickets by Queue')\n",
    "plt.xlabel('Count')\n",
    "\n",
    "# Priority distribution plot\n",
    "plt.subplot(2, 2, 2)\n",
    "sns.countplot(data=df, y='priority', order=df['priority'].value_counts().index)\n",
    "plt.title('Distribution of Tickets by Priority')\n",
    "plt.xlabel('Count')\n",
    "\n",
    "# Language distribution plot\n",
    "plt.subplot(2, 2, 3)\n",
    "sns.countplot(data=df, y='language', order=df['language'].value_counts().index)\n",
    "plt.title('Distribution of Tickets by Language')\n",
    "plt.xlabel('Count')\n",
    "\n",
    "# Text length distribution\n",
    "plt.subplot(2, 2, 4)\n",
    "sns.histplot(data=df, x='text_length', bins=50)\n",
    "plt.title('Distribution of Text Length')\n",
    "plt.xlabel('Text Length')\n",
    "\n",
    "plt.tight_layout()\n",
    "plt.show()"
   ]
  },
  {
   "cell_type": "markdown",
   "metadata": {},
   "source": [
    "<div style=\"font-size: 25px; font-family: 'Roboto', sans-serif; background-color: #d5e8f9; padding: 10px; border-radius: 10px; border: 5px solid #3498db; width: 45%\">\n",
    "    <span style=\"color: #9b59b6; font-weight: 900; border: 3px solid grey;  border-radius:10px;\">I</span>\n",
    "    <span style=\"color: #e74c3c; font-weight: 900;\">n</span>\n",
    "    <span style=\"color: #1abc9c; font-weight: 900;\">s</span>\n",
    "    <span style=\"color: #8e44ad; font-weight: 900;\">i</span>\n",
    "    <span style=\"color: #f39c12; font-weight: 900;\">g</span>\n",
    "    <span style=\"color: #2ecc71; font-weight: 900;\">h</span>\n",
    "    <span style=\"color: #f1c40f; font-weight: 900;\">t</span>\n",
    "    <span style=\"color: #e67e22; font-weight: 900;\">s</span>\n",
    "</div>\n",
    "\n",
    "> ##### This plot above shows an overview of customer support ticket distributions:\n",
    "\n",
    "- **Queue**: Technical Support and Product Support have the highest ticket volumes.\n",
    "- **Priority**: Most tickets are high or medium priority.\n",
    "- **Language**: English is the most common, followed by German and Spanish.\n",
    "- **Text Length**: Ticket texts mainly fall between 100–400 characters, peaking around 200–300.\n",
    "\n",
    "This suggests a need for prioritized attention in Technical Support, especially in English."
   ]
  },
  {
   "cell_type": "code",
   "execution_count": null,
   "metadata": {},
   "outputs": [],
   "source": [
    "# Text Length Analysis\n",
    "df['text_length'] = df['body'].apply(len)\n",
    "plt.figure(figsize=(10, 6))\n",
    "sns.histplot(df['text_length'], bins=30, kde=True)\n",
    "plt.title('Text Length Distribution')\n",
    "plt.xlabel('Text Length')\n",
    "plt.ylabel('Count')\n",
    "plt.show()"
   ]
  },
  {
   "cell_type": "markdown",
   "metadata": {},
   "source": [
    "<a id=\"CTI\"></a>\n",
    "\n",
    "# <p  style=\"font-size: 45px;\"> 📉<span style=\"color: #ffffff;\">T</span><span style=\"color: #f9f9f9;\">a</span><span style=\"color: #ececec; font-weight: 900;\">s</span><span style=\"color: #dfdfdf;\">k</span><span style=\"color: #d2d2d2;\">5</span>: <span style=\"color: #c5c5c5;\">C</span><span style=\"color: #b8b8b8;\">r</span><span style=\"color: #ababab;\">o</span><span style=\"color: #9e9e9e;\">s</span><span style=\"color: #919191;\">s</span><span style=\"color: #848484;\">-</span><span style=\"color: #777777;\">t</span><span style=\"color: #6a6a6a; font-weight: 900;\">a</span><span style=\"color: #5d5d5d;\">b</span><span style=\"color: #505050;\">u</span><span style=\"color: #434343;\">l</span><span style=\"color: #363636;\">a</span><span style=\"color: #292929;\">t</span><span style=\"color: #1c1c1c;\">i</span><span style=\"color: #0f0f0f;\">o</span><span style=\"color: #ffffff;\">n</span> <span style=\"color: #f9f9f9;\">a</span><span style=\"color: #ececec; font-weight: 900;\">n</span><span style=\"color: #dfdfdf;\">d</span> <span style=\"color: #d2d2d2;\">I</span><span style=\"color: #c5c5c5;\">n</span><span style=\"color: #b8b8b8;\">s</span><span style=\"color: #ababab;\">i</span><span style=\"color: #9e9e9e;\">g</span><span style=\"color: #919191;\">h</span><span style=\"color: #848484;\">t</span><span style=\"color: #777777;\">s</span>📈</p>\n"
   ]
  },
  {
   "cell_type": "markdown",
   "metadata": {},
   "source": [
    "<p style=\"background-color:#20B2AA; font-family:Arial, sans-serif; color:#FFFFFF; font-size:150%; text-align:center; padding:8px; border:2px solid #FFFFFF; width: 70%; border-top-right-radius: 60px; border-bottom-left-radius: 60px;\">\n",
    "    5.1: Priority vs Queue Analysis\n",
    "</p>"
   ]
  },
  {
   "cell_type": "code",
   "execution_count": null,
   "metadata": {},
   "outputs": [],
   "source": [
    "# Format the existing crosstab\n",
    "pd.set_option('display.max_columns', None)\n",
    "pd.set_option('display.width', None)\n",
    "pd.set_option('display.max_colwidth', None)\n",
    "pd.set_option('display.expand_frame_repr', False)\n",
    "\n",
    "# Create the crosstab with better formatting\n",
    "crosstab = pd.crosstab(\n",
    "    df['priority'], \n",
    "    df['queue'],\n",
    "    margins=True,\n",
    "    margins_name='Total'\n",
    ")\n",
    "\n",
    "# Sort index to display high, medium, low in logical order\n",
    "priority_order = ['high', 'medium', 'low', 'Total']\n",
    "crosstab = crosstab.reindex(priority_order)\n",
    "\n",
    "# Format the display\n",
    "print(\"\\nPriority vs Queue Analysis\")\n",
    "print(\"=\" * 120)\n",
    "print(crosstab)\n",
    "\n",
    "# Add percentage analysis\n",
    "total_tickets = crosstab.loc['Total', 'Total']\n",
    "print(\"\\nPriority Distribution\")\n",
    "print(\"=\" * 50)\n",
    "for priority in ['high', 'medium', 'low']:\n",
    "    count = crosstab.loc[priority, 'Total']\n",
    "    percentage = (count / total_tickets * 100).round(1)\n",
    "    print(f\"{priority.capitalize():6} priority: {count:3} tickets ({percentage}%)\")"
   ]
  },
  {
   "cell_type": "markdown",
   "metadata": {},
   "source": [
    "<div style=\"font-size: 25px; font-family: 'Roboto', sans-serif; background-color: #d5e8f9; padding: 10px; border-radius: 10px; border: 5px solid #3498db; width: 45%\">\n",
    "    <span style=\"color: #9b59b6; font-weight: 900; border: 3px solid grey;  border-radius:10px;\">I</span>\n",
    "    <span style=\"color: #e74c3c; font-weight: 900;\">n</span>\n",
    "    <span style=\"color: #1abc9c; font-weight: 900;\">s</span>\n",
    "    <span style=\"color: #8e44ad; font-weight: 900;\">i</span>\n",
    "    <span style=\"color: #f39c12; font-weight: 900;\">g</span>\n",
    "    <span style=\"color: #2ecc71; font-weight: 900;\">h</span>\n",
    "    <span style=\"color: #f1c40f; font-weight: 900;\">t</span>\n",
    "    <span style=\"color: #e67e22; font-weight: 900;\">s</span>\n",
    "</div>\n",
    "\n",
    "> ##### This analysis shows high-priority tickets (44.3%) are concentrated in IT and Technical Support, while medium (34.2%) and low-priority tickets (21.5%) are spread across Returns, Sales, and Customer Service. Technical Support handles the highest ticket volume across all priorities."
   ]
  },
  {
   "cell_type": "code",
   "execution_count": null,
   "metadata": {},
   "outputs": [],
   "source": [
    "# Create the crosstab with better formatting\n",
    "crosstab = pd.crosstab(\n",
    "    df['business_type'], \n",
    "    df['language'],\n",
    "    margins=True,\n",
    "    margins_name='Total'\n",
    ")\n",
    "\n",
    "# Sort index to display high, medium, low in logical order\n",
    "business_order = ['IT Consulting Firm',  'IT Services',  'Software Development Company', 'Tech Online Store', 'Total']\n",
    "crosstab = crosstab.reindex(business_order)\n",
    "\n",
    "# Format the display\n",
    "print(\"\\nBusiness Type vs Language Analysis\")\n",
    "print(\"=\" * 120)\n",
    "print(crosstab)\n",
    "\n",
    "# Add percentage analysis\n",
    "total_tickets = crosstab.loc['Total', 'Total']\n",
    "print(\"\\Business Distribution\")\n",
    "print(\"=\" * 50)\n",
    "for business in ['IT Consulting Firm',  'IT Services',  'Software Development Company', 'Tech Online Store']:\n",
    "    count = crosstab.loc[business, 'Total']\n",
    "    percentage = (count / total_tickets * 100).round(1)\n",
    "    print(f\"{business.capitalize():6} Business Type: {count:3} tickets ({percentage}%)\")\n"
   ]
  },
  {
   "cell_type": "markdown",
   "metadata": {},
   "source": [
    "<div style=\"font-size: 25px; font-family: 'Roboto', sans-serif; background-color: #d5e8f9; padding: 10px; border-radius: 10px; border: 5px solid #3498db; width: 45%\">\n",
    "    <span style=\"color: #9b59b6; font-weight: 900; border: 3px solid grey;  border-radius:10px;\">I</span>\n",
    "    <span style=\"color: #e74c3c; font-weight: 900;\">n</span>\n",
    "    <span style=\"color: #1abc9c; font-weight: 900;\">s</span>\n",
    "    <span style=\"color: #8e44ad; font-weight: 900;\">i</span>\n",
    "    <span style=\"color: #f39c12; font-weight: 900;\">g</span>\n",
    "    <span style=\"color: #2ecc71; font-weight: 900;\">h</span>\n",
    "    <span style=\"color: #f1c40f; font-weight: 900;\">t</span>\n",
    "    <span style=\"color: #e67e22; font-weight: 900;\">s</span>\n",
    "</div>\n",
    "\n",
    "> ##### The Tech Online Store has the highest ticket volume (48%), followed by IT Services (32.7%). Tickets span multiple languages, with German and English as the most common."
   ]
  },
  {
   "cell_type": "code",
   "execution_count": null,
   "metadata": {},
   "outputs": [],
   "source": [
    "df.to_csv('dataset/support_tickets_preprocessed.csv', index=False)"
   ]
  },
  {
   "cell_type": "code",
   "execution_count": null,
   "metadata": {},
   "outputs": [],
   "source": []
  },
  {
   "cell_type": "code",
   "execution_count": null,
   "metadata": {},
   "outputs": [],
   "source": []
  }
 ],
 "metadata": {
  "kernelspec": {
   "display_name": "mbl_env",
   "language": "python",
   "name": "python3"
  },
  "language_info": {
   "codemirror_mode": {
    "name": "ipython",
    "version": 3
   },
   "file_extension": ".py",
   "mimetype": "text/x-python",
   "name": "python",
   "nbconvert_exporter": "python",
   "pygments_lexer": "ipython3",
   "version": "3.12.0"
  }
 },
 "nbformat": 4,
 "nbformat_minor": 2
}
